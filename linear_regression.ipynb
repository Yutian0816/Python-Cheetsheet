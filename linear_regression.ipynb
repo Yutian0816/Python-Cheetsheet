{
 "cells": [
  {
   "cell_type": "markdown",
   "id": "8bf20588",
   "metadata": {},
   "source": [
    "# Linear Regression — Introduction\n",
    "Author: ChatGPT\n",
    "\n",
    "This notebook provides a basic introduction to simple linear regression, including model formulation, cost function, gradient descent, and visualization."
   ]
  },
  {
   "cell_type": "markdown",
   "id": "82443309",
   "metadata": {},
   "source": [
    "## 1. Model Formulation\n",
    "We consider the simple linear regression model:\n",
    "$$h_\\theta(x) = \\theta_0 + \\theta_1 x$$\n",
    "- $\\theta_0$ is the intercept.\n",
    "- $\\theta_1$ is the slope (weight).\n",
    "- Given training examples $(x^{(i)}, y^{(i)})$, we aim to find parameters $\\theta$ that minimize the cost function."
   ]
  },
  {
   "cell_type": "markdown",
   "id": "1da000eb",
   "metadata": {},
   "source": [
    "## 2. Imports and Data Setup"
   ]
  },
  {
   "cell_type": "code",
   "execution_count": null,
   "id": "329cc5b3",
   "metadata": {},
   "outputs": [],
   "source": [
    "import numpy as np\n",
    "import matplotlib.pyplot as plt\n",
    "%matplotlib inline\n",
    "\n",
    "# Example dataset (synthetic)\n",
    "X = np.linspace(0, 10, 50)\n",
    "# True parameters\n",
    "theta_true = [2.5, 1.3]\n",
    "Y = theta_true[0] + theta_true[1] * X + np.random.normal(scale=1.0, size=X.shape)\n",
    "\n",
    "# Visualize data\n",
    "plt.scatter(X, Y, label='Training Data')\n",
    "plt.xlabel('x')\n",
    "plt.ylabel('y')\n",
    "plt.legend()\n",
    "plt.title('Synthetic Training Data')\n"
   ]
  },
  {
   "cell_type": "markdown",
   "id": "cdf21b4a",
   "metadata": {},
   "source": [
    "## 3. Hypothesis (Prediction)"
   ]
  },
  {
   "cell_type": "code",
   "execution_count": null,
   "id": "7fbf2f49",
   "metadata": {},
   "outputs": [],
   "source": [
    "def predict(X, theta):\n",
    "    \"\"\"Compute predictions for input X and parameters theta.\"\"\"\n",
    "    return theta[0] + theta[1] * X\n",
    "\n",
    "# Test prediction\n",
    "print(predict(np.array([0, 5, 10]), theta_true))  # should approximate [2.5, 2.5+1.3*5, ...]\n"
   ]
  },
  {
   "cell_type": "markdown",
   "id": "f63951eb",
   "metadata": {},
   "source": [
    "## 4. Cost Function\n",
    "We use the mean squared error cost:\n",
    "$$J(\\theta) = \\frac{1}{2m} \\sum_{i=1}^m (h_\\theta(x^{(i)}) - y^{(i)})^2$$"
   ]
  },
  {
   "cell_type": "code",
   "execution_count": null,
   "id": "ce53e59a",
   "metadata": {},
   "outputs": [],
   "source": [
    "def compute_cost(X, Y, theta):\n",
    "    m = len(Y)\n",
    "    predictions = predict(X, theta)\n",
    "    sq_errors = (predictions - Y) ** 2\n",
    "    return (1 / (2 * m)) * np.sum(sq_errors)\n",
    "\n",
    "# Compute initial cost\n",
    "theta_test = [0.0, 0.0]\n",
    "print(\"Initial cost:\", compute_cost(X, Y, theta_test))\n"
   ]
  },
  {
   "cell_type": "markdown",
   "id": "2fb7c34f",
   "metadata": {},
   "source": [
    "## 5. Gradient Descent\n",
    "We update parameters iteratively:\n",
    "$$\\theta_j := \\theta_j - \\alpha \\frac{1}{m} \\sum_{i=1}^m (h_\\theta(x^{(i)}) - y^{(i)}) x^{(i)}_j$$\n",
    "where $x_j^{(i)}$ is the feature (for $j=1$) or 1 (for $j=0$)."
   ]
  },
  {
   "cell_type": "code",
   "execution_count": null,
   "id": "4ef4b360",
   "metadata": {},
   "outputs": [],
   "source": [
    "def gradient_descent(X, Y, theta, alpha, num_iters):\n",
    "    m = len(Y)\n",
    "    J_history = []\n",
    "    for _ in range(num_iters):\n",
    "        predictions = predict(X, theta)\n",
    "        error = predictions - Y\n",
    "        # Compute gradients\n",
    "        grad0 = (1/m) * np.sum(error)\n",
    "        grad1 = (1/m) * np.dot(error, X)\n",
    "        # Update parameters\n",
    "        theta[0] -= alpha * grad0\n",
    "        theta[1] -= alpha * grad1\n",
    "        J_history.append(compute_cost(X, Y, theta))\n",
    "    return theta, J_history\n",
    "\n",
    "# Run gradient descent\n",
    "theta_init = [0.0, 0.0]\n",
    "alpha = 0.01\n",
    "iters = 1000\n",
    "theta_learned, J_hist = gradient_descent(X, Y, theta_init, alpha, iters)\n",
    "print(\"Learned theta:\", theta_learned)\n"
   ]
  },
  {
   "cell_type": "markdown",
   "id": "d82aba8b",
   "metadata": {},
   "source": [
    "## 6. Cost Function Convergence"
   ]
  },
  {
   "cell_type": "code",
   "execution_count": null,
   "id": "0e664ec6",
   "metadata": {},
   "outputs": [],
   "source": [
    "plt.plot(range(len(J_hist)), J_hist, '-b')\n",
    "plt.xlabel('Iteration')\n",
    "plt.ylabel('Cost J')\n",
    "plt.title('Convergence of Gradient Descent')\n"
   ]
  },
  {
   "cell_type": "markdown",
   "id": "16f8cd2e",
   "metadata": {},
   "source": [
    "## 7. Visualizing the Regression Line"
   ]
  },
  {
   "cell_type": "code",
   "execution_count": null,
   "id": "2c2a7150",
   "metadata": {},
   "outputs": [],
   "source": [
    "plt.scatter(X, Y, label='Data')\n",
    "plt.plot(X, predict(X, theta_learned), 'r-', label='Linear fit')\n",
    "plt.xlabel('x')\n",
    "plt.ylabel('y')\n",
    "plt.legend()\n",
    "plt.title('Linear Regression Fit')\n"
   ]
  },
  {
   "cell_type": "markdown",
   "id": "a4eb858e",
   "metadata": {},
   "source": [
    "## 8. Conclusion\n",
    "We have implemented simple linear regression from scratch:\n",
    "- Model and cost function defined\n",
    "- Gradient descent optimization\n",
    "- Visualization of data, convergence, and fit\n",
    "\n",
    "This foundational example can be extended to multivariate regression and advanced ML."
   ]
  }
 ],
 "metadata": {
  "kernelspec": {
   "display_name": "Python 3",
   "language": "python",
   "name": "python3"
  },
  "language_info": {
   "name": "python"
  }
 },
 "nbformat": 4,
 "nbformat_minor": 5
}
