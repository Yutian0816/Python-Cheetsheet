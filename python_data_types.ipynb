{
 "cells": [
  {
   "cell_type": "markdown",
   "id": "f6fc7714",
   "metadata": {},
   "source": [
    "## Python Built‑in Data Types"
   ]
  },
  {
   "cell_type": "markdown",
   "id": "bee1ca41",
   "metadata": {},
   "source": [
    "### 1. Numbers\n",
    "`int`, `float`, `complex`, `bool` — immutable scalar types."
   ]
  },
  {
   "cell_type": "code",
   "execution_count": 2,
   "id": "bfd1a005",
   "metadata": {},
   "outputs": [
    {
     "name": "stdout",
     "output_type": "stream",
     "text": [
      "<class 'int'> 20\n",
      "<class 'float'> 3.14\n",
      "<class 'complex'> (2+3j)\n",
      "<class 'bool'> True 1\n"
     ]
    }
   ],
   "source": [
    "i = 20            # int\n",
    "f = 3.14          # float\n",
    "c = 2 + 3j        # complex\n",
    "b = True          # bool (subclass of int)\n",
    "\n",
    "print(type(i), i)\n",
    "print(type(f), f)\n",
    "print(type(c), c)\n",
    "print(type(b), b, int(b))"
   ]
  },
  {
   "cell_type": "markdown",
   "id": "e4ff6da4",
   "metadata": {},
   "source": [
    "### 2. Text & Binary Data\n",
    "`str`, `bytes`, `bytearray`, `memoryview`."
   ]
  },
  {
   "cell_type": "code",
   "execution_count": 8,
   "id": "48a59b90",
   "metadata": {},
   "outputs": [
    {
     "name": "stdout",
     "output_type": "stream",
     "text": [
      "<class 'str'> milk\n",
      "<class 'bytes'> b'milk'\n",
      "<class 'bytearray'> bytearray(b'eggs')\n",
      "<class 'memoryview'> <memory at 0x000001AE4C2BE7C0>\n"
     ]
    }
   ],
   "source": [
    "s = \"milk\"\n",
    "by = b'milk'\n",
    "ba = bytearray(b'eggs')\n",
    "mv = memoryview(by)\n",
    "\n",
    "print(type(s), s)\n",
    "print(type(by), by)\n",
    "print(type(ba), ba)\n",
    "print(type(mv), mv)"
   ]
  },
  {
   "cell_type": "markdown",
   "id": "ed90e8d5",
   "metadata": {},
   "source": [
    "### 3. Sequences\n",
    "`list` (mutable), `tuple` (immutable), `range` (immutable, lazy)."
   ]
  },
  {
   "cell_type": "code",
   "execution_count": 4,
   "id": "18847a5e",
   "metadata": {},
   "outputs": [
    {
     "name": "stdout",
     "output_type": "stream",
     "text": [
      "<class 'list'> [1, 2, 3]\n",
      "<class 'tuple'> (4, 5, 6)\n",
      "<class 'range'> [0, 1, 2]\n"
     ]
    }
   ],
   "source": [
    "lst = [1, 2, 3]\n",
    "tpl = (4, 5, 6)\n",
    "rng = range(3)\n",
    "\n",
    "print(type(lst), lst)\n",
    "print(type(tpl), tpl)\n",
    "print(type(rng), list(rng))"
   ]
  },
  {
   "cell_type": "markdown",
   "id": "a8c4654c",
   "metadata": {},
   "source": [
    "### 4. Sets\n",
    "`set` (mutable) and `frozenset` (immutable) store unique unordered elements."
   ]
  },
  {
   "cell_type": "code",
   "execution_count": 5,
   "id": "cb390ca7",
   "metadata": {},
   "outputs": [
    {
     "name": "stdout",
     "output_type": "stream",
     "text": [
      "<class 'set'> {1, 2, 3}\n",
      "<class 'frozenset'> frozenset({3, 4, 5})\n"
     ]
    }
   ],
   "source": [
    "st = {1, 2, 3, 3}\n",
    "fst = frozenset([3, 4, 4, 5])\n",
    "\n",
    "print(type(st), st)\n",
    "print(type(fst), fst)"
   ]
  },
  {
   "cell_type": "markdown",
   "id": "ada6152d",
   "metadata": {},
   "source": [
    "### 5. Mappings\n",
    "Python’s core mapping type is `dict` (mutable)."
   ]
  },
  {
   "cell_type": "code",
   "execution_count": 6,
   "id": "7abb9d26",
   "metadata": {},
   "outputs": [
    {
     "name": "stdout",
     "output_type": "stream",
     "text": [
      "<class 'dict'> {'a': 1, 'b': 2}\n"
     ]
    }
   ],
   "source": [
    "d = {'a': 1, 'b': 2}\n",
    "print(type(d), d)"
   ]
  },
  {
   "cell_type": "markdown",
   "id": "c95252f5",
   "metadata": {},
   "source": [
    "### 6. Special Singletons\n",
    "`None`, `Ellipsis`, `NotImplemented`."
   ]
  },
  {
   "cell_type": "code",
   "execution_count": 7,
   "id": "3a9c073a",
   "metadata": {},
   "outputs": [
    {
     "name": "stdout",
     "output_type": "stream",
     "text": [
      "<class 'NoneType'> None\n",
      "<class 'ellipsis'> Ellipsis\n",
      "<class 'NotImplementedType'> NotImplemented\n"
     ]
    }
   ],
   "source": [
    "n = None\n",
    "ellipsis_obj = ...\n",
    "not_impl = NotImplemented\n",
    "\n",
    "print(type(n), n)\n",
    "print(type(ellipsis_obj), ellipsis_obj)\n",
    "print(type(not_impl), not_impl)"
   ]
  },
  {
   "cell_type": "code",
   "execution_count": null,
   "id": "593fa582",
   "metadata": {},
   "outputs": [],
   "source": []
  }
 ],
 "metadata": {
  "kernelspec": {
   "display_name": "Python 3 (ipykernel)",
   "language": "python",
   "name": "python3"
  },
  "language_info": {
   "codemirror_mode": {
    "name": "ipython",
    "version": 3
   },
   "file_extension": ".py",
   "mimetype": "text/x-python",
   "name": "python",
   "nbconvert_exporter": "python",
   "pygments_lexer": "ipython3",
   "version": "3.8.13"
  }
 },
 "nbformat": 4,
 "nbformat_minor": 5
}
