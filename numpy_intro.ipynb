{
 "cells": [
  {
   "cell_type": "markdown",
   "id": "88dc8378",
   "metadata": {},
   "source": [
    "# NumPy"
   ]
  },
  {
   "cell_type": "markdown",
   "id": "49ddae99",
   "metadata": {},
   "source": [
    "## 1. Installation\n",
    "```bash\n",
    "pip install numpy\n",
    "```\n",
    "If you are using Anaconda/Miniconda, NumPy is usually installed by default."
   ]
  },
  {
   "cell_type": "markdown",
   "id": "f19ad727",
   "metadata": {},
   "source": [
    "## 2. Importing NumPy"
   ]
  },
  {
   "cell_type": "code",
   "execution_count": 1,
   "id": "571361ab",
   "metadata": {},
   "outputs": [
    {
     "data": {
      "text/plain": [
       "'1.21.5'"
      ]
     },
     "execution_count": 1,
     "metadata": {},
     "output_type": "execute_result"
    }
   ],
   "source": [
    "import numpy as np\n",
    "np.__version__"
   ]
  },
  {
   "cell_type": "markdown",
   "id": "ac6fee97",
   "metadata": {},
   "source": [
    "## 3. Creating Arrays"
   ]
  },
  {
   "cell_type": "code",
   "execution_count": 4,
   "id": "0509eba7",
   "metadata": {},
   "outputs": [
    {
     "name": "stdout",
     "output_type": "stream",
     "text": [
      "arr1: [1 2 3]\n",
      "arr2:\n",
      " [[1 2 3]\n",
      " [4 5 6]]\n",
      "zeros:\n",
      " [[0. 0. 0.]\n",
      " [0. 0. 0.]]\n",
      "ones:\n",
      " [[1. 1. 1.]\n",
      " [1. 1. 1.]]\n",
      "zeros_1 [0. 0. 0. 0.]\n",
      "identity:\n",
      " [[1. 0. 0.]\n",
      " [0. 1. 0.]\n",
      " [0. 0. 1.]]\n",
      "arange: [0 2 4 6 8]\n",
      "linspace: [0.   0.25 0.5  0.75 1.  ]\n"
     ]
    }
   ],
   "source": [
    "# From Python lists\n",
    "arr_1 = np.array([1, 2, 3])\n",
    "arr_2 = np.array([[1, 2, 3], [4, 5, 6]])\n",
    "print('arr1:', arr1)\n",
    "print('arr2:\\n', arr2)\n",
    "\n",
    "# Using built‑in helpers\n",
    "zeros = np.zeros((2, 3)) # tuple, two dimension\n",
    "zeros_1 = np.zeros(4,) # int, one dimension\n",
    "ones  = np.ones((2, 3))\n",
    "identity = np.eye(3)\n",
    "arange  = np.arange(0, 10, 2)\n",
    "lin = np.linspace(0, 1, 5)\n",
    "\n",
    "print('zeros:\\n', zeros)\n",
    "print('ones:\\n', ones)\n",
    "print('zeros_1',zeros_1)\n",
    "print('identity:\\n', identity)\n",
    "print('arange:', arange)\n",
    "print('linspace:', lin)"
   ]
  },
  {
   "cell_type": "markdown",
   "id": "12e0ca44",
   "metadata": {},
   "source": [
    "### 3.1 Array Attributes"
   ]
  },
  {
   "cell_type": "code",
   "execution_count": 5,
   "id": "7d8c9e92",
   "metadata": {},
   "outputs": [
    {
     "name": "stdout",
     "output_type": "stream",
     "text": [
      "Shape: (2, 3)\n",
      "Datatype: int32\n",
      "Size: 6\n",
      "Dimension (ndim): 2\n"
     ]
    }
   ],
   "source": [
    "print('Shape:', arr_2.shape)\n",
    "print('Datatype:', arr_2.dtype)\n",
    "print('Size:', arr_2.size)\n",
    "print('Dimension (ndim):', arr_2.ndim)"
   ]
  },
  {
   "cell_type": "markdown",
   "id": "e6def33f",
   "metadata": {},
   "source": [
    "## 4. Basic Operations"
   ]
  },
  {
   "cell_type": "code",
   "execution_count": 6,
   "id": "7aec31ec",
   "metadata": {},
   "outputs": [
    {
     "name": "stdout",
     "output_type": "stream",
     "text": [
      "Element‑wise add : [11 22 33]\n",
      "Element‑wise mul : [10 40 90]\n",
      "Scalar add      : [15 25 35]\n",
      "Scalar mul      : [10 20 30]\n",
      "Matrix product  :\n",
      " [[19 22]\n",
      " [43 50]]\n"
     ]
    }
   ],
   "source": [
    "a = np.array([10, 20, 30])\n",
    "b = np.array([1, 2, 3])\n",
    "print('Element‑wise add :', a + b)\n",
    "print('Element‑wise mul :', a * b)\n",
    "print('Scalar add      :', a + 5)\n",
    "print('Scalar mul      :', b * 10)\n",
    "\n",
    "# Matrix multiplication\n",
    "A = np.array([[1, 2], [3, 4]])\n",
    "B = np.array([[5, 6], [7, 8]])\n",
    "print('Matrix product  :\\n', A @ B)"
   ]
  },
  {
   "cell_type": "markdown",
   "id": "fcb24479",
   "metadata": {},
   "source": [
    "## 5. Indexing & Slicing"
   ]
  },
  {
   "cell_type": "code",
   "execution_count": 7,
   "id": "6584746e",
   "metadata": {},
   "outputs": [
    {
     "name": "stdout",
     "output_type": "stream",
     "text": [
      "C:\n",
      " [[ 1  2  3  4]\n",
      " [ 5  6  7  8]\n",
      " [ 9 10 11 12]]\n",
      "First row      : [1 2 3 4]\n",
      "First column   : [1 5 9]\n",
      "Sub‑matrix 2x2 :\n",
      " [[ 6  7]\n",
      " [10 11]]\n"
     ]
    }
   ],
   "source": [
    "C = np.arange(1, 13).reshape(3, 4)\n",
    "print('C:\\n', C)\n",
    "print('First row      :', C[0])\n",
    "print('First column   :', C[:, 0])\n",
    "print('Sub‑matrix 2x2 :\\n', C[1:, 1:3])"
   ]
  },
  {
   "cell_type": "markdown",
   "id": "90be1d95",
   "metadata": {},
   "source": [
    "## 6. Broadcasting"
   ]
  },
  {
   "cell_type": "code",
   "execution_count": 8,
   "id": "33126b58",
   "metadata": {},
   "outputs": [
    {
     "name": "stdout",
     "output_type": "stream",
     "text": [
      "Original D:\n",
      " [[1. 1. 1.]\n",
      " [1. 1. 1.]\n",
      " [1. 1. 1.]]\n"
     ]
    },
    {
     "data": {
      "text/plain": [
       "array([[2., 3., 4.],\n",
       "       [2., 3., 4.],\n",
       "       [2., 3., 4.]])"
      ]
     },
     "execution_count": 8,
     "metadata": {},
     "output_type": "execute_result"
    }
   ],
   "source": [
    "D = np.ones((3, 3))\n",
    "print('Original D:\\n', D)\n",
    "D + np.array([1, 2, 3])   # row vector broadcasted"
   ]
  },
  {
   "cell_type": "markdown",
   "id": "3ebdfc64",
   "metadata": {},
   "source": [
    "## 7. Useful Functions"
   ]
  },
  {
   "cell_type": "code",
   "execution_count": 9,
   "id": "6360ec81",
   "metadata": {},
   "outputs": [
    {
     "name": "stdout",
     "output_type": "stream",
     "text": [
      "Random 2x2:\n",
      " [[0.63696169 0.26978671]\n",
      " [0.04097352 0.01652764]]\n",
      "Sum  : 0.9642495605500484\n",
      "Mean : 0.2410623901375121\n",
      "Std  : 0.24900439287469212\n"
     ]
    }
   ],
   "source": [
    "rng = np.random.default_rng(0)\n",
    "rand = rng.random((2, 2))\n",
    "print('Random 2x2:\\n', rand)\n",
    "\n",
    "print('Sum  :', rand.sum())\n",
    "print('Mean :', rand.mean())\n",
    "print('Std  :', rand.std())"
   ]
  },
  {
   "cell_type": "markdown",
   "id": "d090e00b",
   "metadata": {},
   "source": [
    "### 7.1 Reshape & Flatten"
   ]
  },
  {
   "cell_type": "code",
   "execution_count": 10,
   "id": "db8f23db",
   "metadata": {},
   "outputs": [
    {
     "name": "stdout",
     "output_type": "stream",
     "text": [
      "E: [0 1 2 3 4 5 6 7]\n",
      "E reshaped 2x4:\n",
      " [[0 1 2 3]\n",
      " [4 5 6 7]]\n",
      "Flatten back  : [0 1 2 3 4 5 6 7]\n"
     ]
    }
   ],
   "source": [
    "E = np.arange(8)\n",
    "print('E:', E)\n",
    "print('E reshaped 2x4:\\n', E.reshape(2, 4))\n",
    "print('Flatten back  :', E.reshape(2, 4).ravel())"
   ]
  },
  {
   "cell_type": "markdown",
   "id": "15653720",
   "metadata": {},
   "source": [
    "## 8. Basic Linear Algebra"
   ]
  },
  {
   "cell_type": "code",
   "execution_count": 11,
   "id": "5d9e4185",
   "metadata": {},
   "outputs": [
    {
     "name": "stdout",
     "output_type": "stream",
     "text": [
      "det(X)  : -2.0000000000000004\n",
      "inv(X)  :\n",
      " [[-2.   1. ]\n",
      " [ 1.5 -0.5]]\n",
      "eig(X)  : [-0.37228132  5.37228132]\n"
     ]
    }
   ],
   "source": [
    "X = np.array([[1, 2], [3, 4]])\n",
    "print('det(X)  :', np.linalg.det(X))\n",
    "print('inv(X)  :\\n', np.linalg.inv(X))\n",
    "print('eig(X)  :', np.linalg.eig(X)[0])"
   ]
  }
 ],
 "metadata": {
  "kernelspec": {
   "display_name": "Python 3 (ipykernel)",
   "language": "python",
   "name": "python3"
  },
  "language_info": {
   "codemirror_mode": {
    "name": "ipython",
    "version": 3
   },
   "file_extension": ".py",
   "mimetype": "text/x-python",
   "name": "python",
   "nbconvert_exporter": "python",
   "pygments_lexer": "ipython3",
   "version": "3.8.13"
  }
 },
 "nbformat": 4,
 "nbformat_minor": 5
}
